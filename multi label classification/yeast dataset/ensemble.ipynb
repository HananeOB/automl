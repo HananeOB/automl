{
 "cells": [
  {
   "cell_type": "code",
   "execution_count": 1,
   "source": [
    "# Import data into a pandas dataframe \n",
    "import pandas as pd \n",
    "yeast_dataset = pd.read_csv(\"yeast.data\", header=None)\n",
    "yeast_dataset.info()"
   ],
   "outputs": [
    {
     "output_type": "stream",
     "name": "stdout",
     "text": [
      "<class 'pandas.core.frame.DataFrame'>\n",
      "RangeIndex: 1484 entries, 0 to 1483\n",
      "Data columns (total 10 columns):\n",
      " #   Column  Non-Null Count  Dtype  \n",
      "---  ------  --------------  -----  \n",
      " 0   0       1484 non-null   object \n",
      " 1   1       1484 non-null   float64\n",
      " 2   2       1484 non-null   float64\n",
      " 3   3       1484 non-null   float64\n",
      " 4   4       1484 non-null   float64\n",
      " 5   5       1484 non-null   float64\n",
      " 6   6       1484 non-null   float64\n",
      " 7   7       1484 non-null   float64\n",
      " 8   8       1484 non-null   float64\n",
      " 9   9       1484 non-null   object \n",
      "dtypes: float64(8), object(2)\n",
      "memory usage: 116.1+ KB\n"
     ]
    }
   ],
   "metadata": {}
  },
  {
   "cell_type": "code",
   "execution_count": 2,
   "source": [
    "yeast_dataset.iloc[:,-1] = yeast_dataset.iloc[:,-1].apply(lambda x : {\n",
    "    \"CYT\" : 0,\n",
    "    \"NUC\" : 1,\n",
    "    \"MIT\" : 2,\n",
    "    \"ME3\" : 3,\n",
    "    \"ME2\" : 4,\n",
    "    \"ME1\" : 5, \n",
    "    \"EXC\" : 6,\n",
    "    \"VAC\" : 7,\n",
    "    \"POX\" : 8,\n",
    "    \"ERL\" : 9\n",
    "}[x])"
   ],
   "outputs": [],
   "metadata": {}
  },
  {
   "cell_type": "code",
   "execution_count": 3,
   "source": [
    "yeast_dataset = yeast_dataset.iloc[:,1:]\n",
    "yeast_dataset.head()"
   ],
   "outputs": [
    {
     "output_type": "execute_result",
     "data": {
      "text/plain": [
       "      1     2     3     4    5    6     7     8  9\n",
       "0  0.58  0.61  0.47  0.13  0.5  0.0  0.48  0.22  2\n",
       "1  0.43  0.67  0.48  0.27  0.5  0.0  0.53  0.22  2\n",
       "2  0.64  0.62  0.49  0.15  0.5  0.0  0.53  0.22  2\n",
       "3  0.58  0.44  0.57  0.13  0.5  0.0  0.54  0.22  1\n",
       "4  0.42  0.44  0.48  0.54  0.5  0.0  0.48  0.22  2"
      ],
      "text/html": [
       "<div>\n",
       "<style scoped>\n",
       "    .dataframe tbody tr th:only-of-type {\n",
       "        vertical-align: middle;\n",
       "    }\n",
       "\n",
       "    .dataframe tbody tr th {\n",
       "        vertical-align: top;\n",
       "    }\n",
       "\n",
       "    .dataframe thead th {\n",
       "        text-align: right;\n",
       "    }\n",
       "</style>\n",
       "<table border=\"1\" class=\"dataframe\">\n",
       "  <thead>\n",
       "    <tr style=\"text-align: right;\">\n",
       "      <th></th>\n",
       "      <th>1</th>\n",
       "      <th>2</th>\n",
       "      <th>3</th>\n",
       "      <th>4</th>\n",
       "      <th>5</th>\n",
       "      <th>6</th>\n",
       "      <th>7</th>\n",
       "      <th>8</th>\n",
       "      <th>9</th>\n",
       "    </tr>\n",
       "  </thead>\n",
       "  <tbody>\n",
       "    <tr>\n",
       "      <th>0</th>\n",
       "      <td>0.58</td>\n",
       "      <td>0.61</td>\n",
       "      <td>0.47</td>\n",
       "      <td>0.13</td>\n",
       "      <td>0.5</td>\n",
       "      <td>0.0</td>\n",
       "      <td>0.48</td>\n",
       "      <td>0.22</td>\n",
       "      <td>2</td>\n",
       "    </tr>\n",
       "    <tr>\n",
       "      <th>1</th>\n",
       "      <td>0.43</td>\n",
       "      <td>0.67</td>\n",
       "      <td>0.48</td>\n",
       "      <td>0.27</td>\n",
       "      <td>0.5</td>\n",
       "      <td>0.0</td>\n",
       "      <td>0.53</td>\n",
       "      <td>0.22</td>\n",
       "      <td>2</td>\n",
       "    </tr>\n",
       "    <tr>\n",
       "      <th>2</th>\n",
       "      <td>0.64</td>\n",
       "      <td>0.62</td>\n",
       "      <td>0.49</td>\n",
       "      <td>0.15</td>\n",
       "      <td>0.5</td>\n",
       "      <td>0.0</td>\n",
       "      <td>0.53</td>\n",
       "      <td>0.22</td>\n",
       "      <td>2</td>\n",
       "    </tr>\n",
       "    <tr>\n",
       "      <th>3</th>\n",
       "      <td>0.58</td>\n",
       "      <td>0.44</td>\n",
       "      <td>0.57</td>\n",
       "      <td>0.13</td>\n",
       "      <td>0.5</td>\n",
       "      <td>0.0</td>\n",
       "      <td>0.54</td>\n",
       "      <td>0.22</td>\n",
       "      <td>1</td>\n",
       "    </tr>\n",
       "    <tr>\n",
       "      <th>4</th>\n",
       "      <td>0.42</td>\n",
       "      <td>0.44</td>\n",
       "      <td>0.48</td>\n",
       "      <td>0.54</td>\n",
       "      <td>0.5</td>\n",
       "      <td>0.0</td>\n",
       "      <td>0.48</td>\n",
       "      <td>0.22</td>\n",
       "      <td>2</td>\n",
       "    </tr>\n",
       "  </tbody>\n",
       "</table>\n",
       "</div>"
      ]
     },
     "metadata": {},
     "execution_count": 3
    }
   ],
   "metadata": {}
  },
  {
   "cell_type": "code",
   "execution_count": 4,
   "source": [
    "# Split data to train (80%) and test (20%) data \n",
    "from sklearn.model_selection import train_test_split\n",
    "X = yeast_dataset.iloc[:,:-1]\n",
    "y = yeast_dataset.iloc[:,-1]\n",
    "X_train, X_test, y_train, y_test = train_test_split(X,y, test_size=0.2)"
   ],
   "outputs": [],
   "metadata": {}
  },
  {
   "cell_type": "code",
   "execution_count": 5,
   "source": [
    "# Import saved models \n",
    "import pickle\n",
    "clf_autosklearn = pickle.load(open('autosklearn_yeast.sav', 'rb'))\n",
    "clf_oboe = pickle.load(open('oboe_yeast.sav', 'rb'))"
   ],
   "outputs": [],
   "metadata": {}
  },
  {
   "cell_type": "code",
   "execution_count": 6,
   "source": [
    "import numpy as np\n",
    "import pandas as pd\n",
    "from sklearn.ensemble import RandomForestClassifier\n",
    "from sklearn.model_selection import train_test_split\n",
    "from sklearn.naive_bayes import MultinomialNB\n",
    "from sklearn.pipeline import make_pipeline\n",
    "from tpot.builtins import StackingEstimator\n",
    "\n",
    "\n",
    "\n",
    "# Average CV score on the training set was: 0.6108321809736552\n",
    "exported_pipeline = make_pipeline(\n",
    "    StackingEstimator(estimator=RandomForestClassifier(bootstrap=True, criterion=\"entropy\", max_features=0.35000000000000003, min_samples_leaf=10, min_samples_split=20, n_estimators=100)),\n",
    "    MultinomialNB(alpha=0.001, fit_prior=False)\n",
    ")\n",
    "\n",
    "exported_pipeline.fit(X_train, y_train)\n",
    "\n",
    "# Get predictions for test datasets \n",
    "tpot_pred = exported_pipeline.predict(X_test)\n",
    "sklearn_pred = clf_autosklearn.predict(X_test)\n",
    "oboe_pred = clf_oboe.predict(X_test)[0]"
   ],
   "outputs": [
    {
     "output_type": "stream",
     "name": "stderr",
     "text": [
      "/home/datagenius/anaconda3/lib/python3.8/site-packages/tpot/builtins/__init__.py:36: UserWarning: Warning: optional dependency `torch` is not available. - skipping import of NN models.\n",
      "  warnings.warn(\"Warning: optional dependency `torch` is not available. - skipping import of NN models.\")\n"
     ]
    }
   ],
   "metadata": {}
  },
  {
   "cell_type": "code",
   "execution_count": 8,
   "source": [
    "from sklearn.metrics import accuracy_score\n",
    "\n",
    "# Accuracy for each tool \n",
    "print(accuracy_score(y_test,sklearn_pred ))\n",
    "print(accuracy_score(y_test,oboe_pred ))\n",
    "print(accuracy_score(y_test,tpot_pred ))\n",
    "\n",
    "# The results are again different because we have a diffirent random split :/ \n",
    "# TPOT score : \t\t  0.6363636363636364\n",
    "# OBOE score : \t\t  0.7070707070707071\n",
    "# AutoSklearn: \t\t  0.6430976430976431"
   ],
   "outputs": [
    {
     "output_type": "stream",
     "name": "stdout",
     "text": [
      "0.5757575757575758\n",
      "0.7070707070707071\n",
      "0.5656565656565656\n"
     ]
    }
   ],
   "metadata": {}
  },
  {
   "cell_type": "code",
   "execution_count": 9,
   "source": [
    "# Ensemble learning Stacking \n",
    "# This is not the way it has to be (I loaded the models that were trained on a diffirent dataset != X_train)\n",
    "# Get predictions of each tool on the train dataset \n",
    "tpot_pred    = exported_pipeline.predict(X_train)\n",
    "sklearn_pred = clf_autosklearn.predict(X_train)\n",
    "oboe_pred    = clf_oboe.predict(X_train)[0]"
   ],
   "outputs": [],
   "metadata": {}
  },
  {
   "cell_type": "code",
   "execution_count": 10,
   "source": [
    "from sklearn.metrics import accuracy_score\n",
    "\n",
    "# Accuracy for each tool (Again this is nt how it is supposed to be done !!)\n",
    "print(accuracy_score(y_train,sklearn_pred ))\n",
    "print(accuracy_score(y_train,oboe_pred ))\n",
    "print(accuracy_score(y_train,tpot_pred ))"
   ],
   "outputs": [
    {
     "output_type": "stream",
     "name": "stdout",
     "text": [
      "0.6217354675652906\n",
      "0.7135636057287279\n",
      "0.6849199663016007\n"
     ]
    }
   ],
   "metadata": {}
  },
  {
   "cell_type": "code",
   "execution_count": 11,
   "source": [
    "# Create training data for metalearner (the predictions on the train dataset is used as train data for metalearner)\n",
    "prob = pd.DataFrame(list(zip(sklearn_pred, oboe_pred, tpot_pred, y_train)), columns=[ \"AutoSklearn_Class\", \"Oboe_Class\", \"TPOT_Class\", \"expetected\"])\n",
    "X = prob.drop(columns = ['expetected'])\n",
    "Y = prob['expetected']"
   ],
   "outputs": [],
   "metadata": {}
  },
  {
   "cell_type": "code",
   "execution_count": 12,
   "source": [
    "X"
   ],
   "outputs": [
    {
     "output_type": "execute_result",
     "data": {
      "text/plain": [
       "      AutoSklearn_Class  Oboe_Class  TPOT_Class\n",
       "0                     2           2           2\n",
       "1                     6           4           4\n",
       "2                     1           1           1\n",
       "3                     2           2           2\n",
       "4                     1           1           1\n",
       "...                 ...         ...         ...\n",
       "1182                  1           1           1\n",
       "1183                  0           1           1\n",
       "1184                  2           2           2\n",
       "1185                  0           0           0\n",
       "1186                  0           0           0\n",
       "\n",
       "[1187 rows x 3 columns]"
      ],
      "text/html": [
       "<div>\n",
       "<style scoped>\n",
       "    .dataframe tbody tr th:only-of-type {\n",
       "        vertical-align: middle;\n",
       "    }\n",
       "\n",
       "    .dataframe tbody tr th {\n",
       "        vertical-align: top;\n",
       "    }\n",
       "\n",
       "    .dataframe thead th {\n",
       "        text-align: right;\n",
       "    }\n",
       "</style>\n",
       "<table border=\"1\" class=\"dataframe\">\n",
       "  <thead>\n",
       "    <tr style=\"text-align: right;\">\n",
       "      <th></th>\n",
       "      <th>AutoSklearn_Class</th>\n",
       "      <th>Oboe_Class</th>\n",
       "      <th>TPOT_Class</th>\n",
       "    </tr>\n",
       "  </thead>\n",
       "  <tbody>\n",
       "    <tr>\n",
       "      <th>0</th>\n",
       "      <td>2</td>\n",
       "      <td>2</td>\n",
       "      <td>2</td>\n",
       "    </tr>\n",
       "    <tr>\n",
       "      <th>1</th>\n",
       "      <td>6</td>\n",
       "      <td>4</td>\n",
       "      <td>4</td>\n",
       "    </tr>\n",
       "    <tr>\n",
       "      <th>2</th>\n",
       "      <td>1</td>\n",
       "      <td>1</td>\n",
       "      <td>1</td>\n",
       "    </tr>\n",
       "    <tr>\n",
       "      <th>3</th>\n",
       "      <td>2</td>\n",
       "      <td>2</td>\n",
       "      <td>2</td>\n",
       "    </tr>\n",
       "    <tr>\n",
       "      <th>4</th>\n",
       "      <td>1</td>\n",
       "      <td>1</td>\n",
       "      <td>1</td>\n",
       "    </tr>\n",
       "    <tr>\n",
       "      <th>...</th>\n",
       "      <td>...</td>\n",
       "      <td>...</td>\n",
       "      <td>...</td>\n",
       "    </tr>\n",
       "    <tr>\n",
       "      <th>1182</th>\n",
       "      <td>1</td>\n",
       "      <td>1</td>\n",
       "      <td>1</td>\n",
       "    </tr>\n",
       "    <tr>\n",
       "      <th>1183</th>\n",
       "      <td>0</td>\n",
       "      <td>1</td>\n",
       "      <td>1</td>\n",
       "    </tr>\n",
       "    <tr>\n",
       "      <th>1184</th>\n",
       "      <td>2</td>\n",
       "      <td>2</td>\n",
       "      <td>2</td>\n",
       "    </tr>\n",
       "    <tr>\n",
       "      <th>1185</th>\n",
       "      <td>0</td>\n",
       "      <td>0</td>\n",
       "      <td>0</td>\n",
       "    </tr>\n",
       "    <tr>\n",
       "      <th>1186</th>\n",
       "      <td>0</td>\n",
       "      <td>0</td>\n",
       "      <td>0</td>\n",
       "    </tr>\n",
       "  </tbody>\n",
       "</table>\n",
       "<p>1187 rows × 3 columns</p>\n",
       "</div>"
      ]
     },
     "metadata": {},
     "execution_count": 12
    }
   ],
   "metadata": {}
  },
  {
   "cell_type": "code",
   "execution_count": 13,
   "source": [
    "from xgboost import XGBClassifier\n",
    "\n",
    "clf = XGBClassifier()\n",
    "clf.fit(X, Y)"
   ],
   "outputs": [
    {
     "output_type": "stream",
     "name": "stderr",
     "text": [
      "/home/datagenius/anaconda3/lib/python3.8/site-packages/xgboost/sklearn.py:888: UserWarning: The use of label encoder in XGBClassifier is deprecated and will be removed in a future release. To remove this warning, do the following: 1) Pass option use_label_encoder=False when constructing XGBClassifier object; and 2) Encode your labels (y) as integers starting with 0, i.e. 0, 1, 2, ..., [num_class - 1].\n",
      "  warnings.warn(label_encoder_deprecation_msg, UserWarning)\n"
     ]
    },
    {
     "output_type": "stream",
     "name": "stdout",
     "text": [
      "[10:22:35] WARNING: /tmp/build/80754af9/xgboost-split_1619724447847/work/src/learner.cc:1061: Starting in XGBoost 1.3.0, the default evaluation metric used with the objective 'multi:softprob' was changed from 'merror' to 'mlogloss'. Explicitly set eval_metric if you'd like to restore the old behavior.\n"
     ]
    },
    {
     "output_type": "execute_result",
     "data": {
      "text/plain": [
       "XGBClassifier(base_score=0.5, booster='gbtree', colsample_bylevel=1,\n",
       "              colsample_bynode=1, colsample_bytree=1, gamma=0, gpu_id=-1,\n",
       "              importance_type='gain', interaction_constraints='',\n",
       "              learning_rate=0.300000012, max_delta_step=0, max_depth=6,\n",
       "              min_child_weight=1, missing=nan, monotone_constraints='()',\n",
       "              n_estimators=100, n_jobs=12, num_parallel_tree=1,\n",
       "              objective='multi:softprob', random_state=0, reg_alpha=0,\n",
       "              reg_lambda=1, scale_pos_weight=None, subsample=1,\n",
       "              tree_method='exact', validate_parameters=1, verbosity=None)"
      ]
     },
     "metadata": {},
     "execution_count": 13
    }
   ],
   "metadata": {}
  },
  {
   "cell_type": "code",
   "execution_count": 14,
   "source": [
    "# The accuracy of metalearner on the data used for training (already seen data)\n",
    "print(accuracy_score(Y,clf.predict(X) ))"
   ],
   "outputs": [
    {
     "output_type": "stream",
     "name": "stdout",
     "text": [
      "0.7430497051390059\n"
     ]
    }
   ],
   "metadata": {}
  },
  {
   "cell_type": "code",
   "execution_count": 15,
   "source": [
    "# Construct the test data \n",
    "tpot_pred_test    = exported_pipeline.predict(X_test)\n",
    "sklearn_pred_test = clf_autosklearn.predict(X_test)\n",
    "oboe_pred_test    = clf_oboe.predict(X_test)[0]\n",
    "\n",
    "prob_test = pd.DataFrame(list(zip(sklearn_pred_test, oboe_pred_test, tpot_pred_test)), columns=[ \"AutoSklearn_Class\", \"Oboe_Class\", \"TPOT_Class\"])\n"
   ],
   "outputs": [],
   "metadata": {}
  },
  {
   "cell_type": "code",
   "execution_count": 17,
   "source": [
    "# The accuracy of metalearner  \n",
    "ensemble = clf.predict(prob_test)\n",
    "print(accuracy_score(y_test,ensemble ))"
   ],
   "outputs": [
    {
     "output_type": "stream",
     "name": "stdout",
     "text": [
      "0.632996632996633\n"
     ]
    }
   ],
   "metadata": {}
  },
  {
   "cell_type": "code",
   "execution_count": 10,
   "source": [
    "# Voting ensemble Learning\n",
    "  \n",
    "tpot_sklearn_prob = clf_tpot.predict_proba(X_test)\n",
    "auto_sklearn_prob = clf_autosklearn.predict_proba(X_test)\n",
    "AutoSklearn_Class=[]\n",
    "AutoSklearn_Prob= []\n",
    "TPOT_Class=[]\n",
    "TPOT_Prob= []\n",
    "for  value in auto_sklearn_prob :\n",
    "    AutoSklearn_Class.append(int(np.argmax(value)))\n",
    "    AutoSklearn_Prob.append(float(value[np.argmax(value)]))\n",
    "\n",
    "for  value in tpot_sklearn_prob :\n",
    "    TPOT_Class.append(int(np.argmax(value)))\n",
    "    TPOT_Prob.append(float(value[np.argmax(value)])) \n",
    "\n",
    "prob = pd.DataFrame(list(zip(AutoSklearn_Class, AutoSklearn_Prob, TPOT_Class, TPOT_Prob)), columns=[ \"AutoSklearn_Class\", \"AutoSklearn_Prob\", \"TPOT_Class\", \"TPOT_Prob\"])\n",
    "prob['ensemble'] = prob.apply(lambda x : \"T\" if x['AutoSklearn_Prob']<= x['TPOT_Prob'] else \"A\", axis=1)\n",
    "prob.head()"
   ],
   "outputs": [
    {
     "output_type": "execute_result",
     "data": {
      "text/plain": [
       "   AutoSklearn_Class  AutoSklearn_Prob  TPOT_Class  TPOT_Prob ensemble\n",
       "0                  1          0.197171           1   0.292026        T\n",
       "1                  0          0.162204           0   0.365423        T\n",
       "2                  0          0.194128           0   0.381096        T\n",
       "3                  0          0.174253           0   0.363878        T\n",
       "4                  0          0.167299           0   0.351412        T"
      ],
      "text/html": [
       "<div>\n",
       "<style scoped>\n",
       "    .dataframe tbody tr th:only-of-type {\n",
       "        vertical-align: middle;\n",
       "    }\n",
       "\n",
       "    .dataframe tbody tr th {\n",
       "        vertical-align: top;\n",
       "    }\n",
       "\n",
       "    .dataframe thead th {\n",
       "        text-align: right;\n",
       "    }\n",
       "</style>\n",
       "<table border=\"1\" class=\"dataframe\">\n",
       "  <thead>\n",
       "    <tr style=\"text-align: right;\">\n",
       "      <th></th>\n",
       "      <th>AutoSklearn_Class</th>\n",
       "      <th>AutoSklearn_Prob</th>\n",
       "      <th>TPOT_Class</th>\n",
       "      <th>TPOT_Prob</th>\n",
       "      <th>ensemble</th>\n",
       "    </tr>\n",
       "  </thead>\n",
       "  <tbody>\n",
       "    <tr>\n",
       "      <th>0</th>\n",
       "      <td>1</td>\n",
       "      <td>0.197171</td>\n",
       "      <td>1</td>\n",
       "      <td>0.292026</td>\n",
       "      <td>T</td>\n",
       "    </tr>\n",
       "    <tr>\n",
       "      <th>1</th>\n",
       "      <td>0</td>\n",
       "      <td>0.162204</td>\n",
       "      <td>0</td>\n",
       "      <td>0.365423</td>\n",
       "      <td>T</td>\n",
       "    </tr>\n",
       "    <tr>\n",
       "      <th>2</th>\n",
       "      <td>0</td>\n",
       "      <td>0.194128</td>\n",
       "      <td>0</td>\n",
       "      <td>0.381096</td>\n",
       "      <td>T</td>\n",
       "    </tr>\n",
       "    <tr>\n",
       "      <th>3</th>\n",
       "      <td>0</td>\n",
       "      <td>0.174253</td>\n",
       "      <td>0</td>\n",
       "      <td>0.363878</td>\n",
       "      <td>T</td>\n",
       "    </tr>\n",
       "    <tr>\n",
       "      <th>4</th>\n",
       "      <td>0</td>\n",
       "      <td>0.167299</td>\n",
       "      <td>0</td>\n",
       "      <td>0.351412</td>\n",
       "      <td>T</td>\n",
       "    </tr>\n",
       "  </tbody>\n",
       "</table>\n",
       "</div>"
      ]
     },
     "metadata": {},
     "execution_count": 10
    }
   ],
   "metadata": {}
  },
  {
   "cell_type": "code",
   "execution_count": 12,
   "source": [
    "prob[\"ensemble\"].value_counts()"
   ],
   "outputs": [
    {
     "output_type": "execute_result",
     "data": {
      "text/plain": [
       "T    295\n",
       "A      2\n",
       "Name: ensemble, dtype: int64"
      ]
     },
     "metadata": {},
     "execution_count": 12
    }
   ],
   "metadata": {}
  },
  {
   "cell_type": "code",
   "execution_count": 13,
   "source": [
    "prob['pred'] = prob.apply(lambda x : x['TPOT_Class'] if x['ensemble'] == 'T' else x['AutoSklearn_Class'], axis=1)\n",
    "accuracy_score(y_test, prob['pred'])"
   ],
   "outputs": [
    {
     "output_type": "execute_result",
     "data": {
      "text/plain": [
       "0.6430976430976431"
      ]
     },
     "metadata": {},
     "execution_count": 13
    }
   ],
   "metadata": {}
  }
 ],
 "metadata": {
  "orig_nbformat": 4,
  "language_info": {
   "name": "python",
   "version": "3.8.8",
   "mimetype": "text/x-python",
   "codemirror_mode": {
    "name": "ipython",
    "version": 3
   },
   "pygments_lexer": "ipython3",
   "nbconvert_exporter": "python",
   "file_extension": ".py"
  },
  "kernelspec": {
   "name": "python3",
   "display_name": "Python 3.8.8 64-bit ('base': conda)"
  },
  "interpreter": {
   "hash": "f0305a4bd922d78a1a9933c10651bf50f37f6183f11a48783a3fae819d3386ad"
  }
 },
 "nbformat": 4,
 "nbformat_minor": 2
}