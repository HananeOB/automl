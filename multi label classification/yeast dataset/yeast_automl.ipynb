{
 "cells": [
  {
   "cell_type": "code",
   "execution_count": null,
   "source": [
    "# Import data into a pandas dataframe \n",
    "import pandas as pd \n",
    "yeast_dataset = pd.read_csv(\"yeast.data\", header=None)\n",
    "yeast_dataset.info()"
   ],
   "outputs": [],
   "metadata": {}
  },
  {
   "cell_type": "code",
   "execution_count": null,
   "source": [
    "yeast_dataset.iloc[:,-1] = yeast_dataset.iloc[:,-1].apply(lambda x : {\n",
    "    \"CYT\" : 0,\n",
    "    \"NUC\" : 1,\n",
    "    \"MIT\" : 2,\n",
    "    \"ME3\" : 3,\n",
    "    \"ME2\" : 4,\n",
    "    \"ME1\" : 5, \n",
    "    \"EXC\" : 6,\n",
    "    \"VAC\" : 7,\n",
    "    \"POX\" : 8,\n",
    "    \"ERL\" : 9\n",
    "}[x])"
   ],
   "outputs": [],
   "metadata": {}
  },
  {
   "cell_type": "code",
   "execution_count": null,
   "source": [
    "yeast_dataset = yeast_dataset.iloc[:,1:]\n",
    "yeast_dataset.head()"
   ],
   "outputs": [],
   "metadata": {}
  },
  {
   "cell_type": "code",
   "execution_count": null,
   "source": [
    "# Split data to train (80%) and test (20%) data \n",
    "from sklearn.model_selection import train_test_split\n",
    "X = yeast_dataset.iloc[:,:-1]\n",
    "y = yeast_dataset.iloc[:,-1]\n",
    "X_train, X_test, y_train, y_test = train_test_split(X,y, test_size=0.2)"
   ],
   "outputs": [],
   "metadata": {}
  },
  {
   "cell_type": "code",
   "execution_count": null,
   "source": [
    "# Launch tpot training \n",
    "from tpot import TPOTClassifier\n",
    "clf_tpot = TPOTClassifier(verbosity=2, max_time_mins=30 )\n",
    "clf_tpot.fit(X_train, y_train)"
   ],
   "outputs": [],
   "metadata": {}
  },
  {
   "cell_type": "code",
   "execution_count": null,
   "source": [
    "# Launch autosklearn \n",
    "import autosklearn.classification\n",
    "clf_autosklearn = autosklearn.classification.AutoSklearnClassifier(time_left_for_this_task=1800)\n",
    "clf_autosklearn.fit(X_train, y_train)"
   ],
   "outputs": [],
   "metadata": {}
  },
  {
   "cell_type": "code",
   "execution_count": null,
   "source": [
    "from oboe import AutoLearner, error\n",
    "import numpy as np \n",
    "x_train = np.array(X_train)\n",
    "yy_train = np.array(y_train)\n",
    "method = 'Oboe' # 'Oboe' or 'TensorOboe'\n",
    "problem_type = 'classification'\n",
    "clf_oboe = AutoLearner(p_type=problem_type, runtime_limit=30, method=method, verbose=False)\n",
    "clf_oboe.fit(x_train, yy_train)"
   ],
   "outputs": [],
   "metadata": {}
  },
  {
   "cell_type": "code",
   "execution_count": null,
   "source": [
    "from sklearn.metrics import accuracy_score\n",
    "print(\"tpot score:\\t\\t \", clf_tpot.score(X_test, y_test))\n",
    "print(\"autosklern score:\\t\\t \", clf_autosklearn.score(X_test, y_test))\n",
    "\n",
    "x_test = np.array(X_test)\n",
    "yy_test = np.array(y_test)\n",
    "y_predicted = clf_oboe.predict(x_test)\n",
    "y_predicted = y_predicted.reshape((yy_test.size,))\n",
    "print(\"oboe score:\\t\\t \", accuracy_score(y_test, y_predicted) )"
   ],
   "outputs": [],
   "metadata": {}
  },
  {
   "cell_type": "code",
   "execution_count": null,
   "source": [
    "import pickle\n",
    "pickle.dump(clf_autosklearn, open('autosklearn_yeast.sav', 'wb'))\n",
    "pickle.dump(clf_oboe, open('oboe_yeast.sav', 'wb'))\n",
    "clf_tpot.export('tpot_yeast.sav')"
   ],
   "outputs": [],
   "metadata": {}
  }
 ],
 "metadata": {
  "orig_nbformat": 4,
  "language_info": {
   "name": "python"
  }
 },
 "nbformat": 4,
 "nbformat_minor": 2
}